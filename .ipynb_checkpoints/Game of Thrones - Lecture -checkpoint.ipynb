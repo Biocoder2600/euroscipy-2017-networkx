{
 "cells": [
  {
   "cell_type": "markdown",
   "metadata": {
    "collapsed": true
   },
   "source": [
    "##### Let's change gears and talk about Game of thrones or shall I say Network of Thrones.\n",
    "\n",
    "It is suprising right? What is the relationship between a fatansy TV show/novel and network science or python(it's not related to a dragon)."
   ]
  },
  {
   "cell_type": "markdown",
   "metadata": {
    "collapsed": true
   },
   "source": [
    "![](got.png)"
   ]
  },
  {
   "cell_type": "markdown",
   "metadata": {
    "collapsed": true
   },
   "source": [
    "Andrew J. Beveridge, an associate professor of mathematics at Macalester College, and Jie Shan, an undergraduate created a network from the book A Storm of Swords by extracting relationships between characters to find out the most important characters in the book(or GoT).\n",
    "\n",
    "The dataset is publicly avaiable for the 5 books at https://github.com/mathbeveridge/asoiaf. This is an interaction network and were created by connecting two characters whenever their names (or nicknames) appeared within 15 words of one another in one of the books. The edge weight corresponds to the number of interactions. \n",
    "\n",
    "Credits:\n",
    "\n",
    "Blog: https://networkofthrones.wordpress.com\n",
    "\n",
    "Math Horizons Article: https://www.maa.org/sites/default/files/pdf/Mathhorizons/NetworkofThrones%20%281%29.pdf"
   ]
  },
  {
   "cell_type": "code",
   "execution_count": 126,
   "metadata": {
    "collapsed": true
   },
   "outputs": [],
   "source": [
    "import pandas as pd\n",
    "import networkx as nx\n",
    "import matplotlib.pyplot as plt"
   ]
  },
  {
   "cell_type": "code",
   "execution_count": 127,
   "metadata": {
    "collapsed": true
   },
   "outputs": [],
   "source": [
    "book1 = pd.read_csv('data/asoiaf-book1-edges.csv')\n",
    "book2 = pd.read_csv('data/asoiaf-book2-edges.csv')\n",
    "book3 = pd.read_csv('data/asoiaf-book3-edges.csv')\n",
    "book4 = pd.read_csv('data/asoiaf-book4-edges.csv')\n",
    "book5 = pd.read_csv('data/asoiaf-book5-edges.csv')"
   ]
  },
  {
   "cell_type": "code",
   "execution_count": 128,
   "metadata": {
    "collapsed": true
   },
   "outputs": [],
   "source": [
    "G_book1 = nx.Graph()\n",
    "G_book2 = nx.Graph()\n",
    "G_book3 = nx.Graph()\n",
    "G_book4 = nx.Graph()\n",
    "G_book5 = nx.Graph()"
   ]
  },
  {
   "cell_type": "code",
   "execution_count": 129,
   "metadata": {},
   "outputs": [],
   "source": [
    "for row in book1.iterrows():\n",
    "    G_book1.add_edge(row[1]['Source'], row[1]['Target'], weight=row[1]['weight'], book=row[1]['book'])\n",
    "for row in book2.iterrows():\n",
    "    G_book2.add_edge(row[1]['Source'], row[1]['Target'], weight=row[1]['weight'], book=row[1]['book'])\n",
    "for row in book3.iterrows():\n",
    "    G_book3.add_edge(row[1]['Source'], row[1]['Target'], weight=row[1]['weight'], book=row[1]['book'])\n",
    "for row in book4.iterrows():\n",
    "    G_book4.add_edge(row[1]['Source'], row[1]['Target'], weight=row[1]['weight'], book=row[1]['book'])\n",
    "for row in book5.iterrows():\n",
    "    G_book5.add_edge(row[1]['Source'], row[1]['Target'], weight=row[1]['weight'], book=row[1]['book'])"
   ]
  },
  {
   "cell_type": "code",
   "execution_count": 130,
   "metadata": {},
   "outputs": [
    {
     "data": {
      "text/plain": [
       "EdgeDataView([('Addam-Marbrand', 'Jaime-Lannister', {'weight': 3, 'book': 1}), ('Addam-Marbrand', 'Tywin-Lannister', {'weight': 6, 'book': 1}), ('Jaime-Lannister', 'Aerys-II-Targaryen', {'weight': 5, 'book': 1}), ('Jaime-Lannister', 'Barristan-Selmy', {'weight': 4, 'book': 1}), ('Jaime-Lannister', 'Brynden-Tully', {'weight': 7, 'book': 1}), ('Jaime-Lannister', 'Catelyn-Stark', {'weight': 9, 'book': 1}), ('Jaime-Lannister', 'Cersei-Lannister', {'weight': 16, 'book': 1}), ('Jaime-Lannister', 'Eddard-Stark', {'weight': 27, 'book': 1}), ('Jaime-Lannister', 'Edmure-Tully', {'weight': 4, 'book': 1}), ('Jaime-Lannister', 'Galbart-Glover', {'weight': 3, 'book': 1}), ('Jaime-Lannister', 'Gregor-Clegane', {'weight': 3, 'book': 1}), ('Jaime-Lannister', 'Harys-Swyft', {'weight': 3, 'book': 1}), ('Jaime-Lannister', 'Joffrey-Baratheon', {'weight': 12, 'book': 1}), ('Jaime-Lannister', 'Jon-Arryn', {'weight': 5, 'book': 1}), ('Jaime-Lannister', 'Jory-Cassel', {'weight': 4, 'book': 1}), ('Jaime-Lannister', 'Kevan-Lannister', {'weight': 4, 'book': 1}), ('Jaime-Lannister', 'Loras-Tyrell', {'weight': 3, 'book': 1}), ('Jaime-Lannister', 'Lysa-Arryn', {'weight': 6, 'book': 1}), ('Jaime-Lannister', 'Petyr-Baelish', {'weight': 7, 'book': 1}), ('Jaime-Lannister', 'Renly-Baratheon', {'weight': 4, 'book': 1}), ('Jaime-Lannister', 'Rickard-Karstark', {'weight': 3, 'book': 1}), ('Jaime-Lannister', 'Robb-Stark', {'weight': 9, 'book': 1}), ('Jaime-Lannister', 'Robert-Baratheon', {'weight': 24, 'book': 1}), ('Jaime-Lannister', 'Rodrik-Cassel', {'weight': 3, 'book': 1}), ('Jaime-Lannister', 'Sandor-Clegane', {'weight': 12, 'book': 1}), ('Jaime-Lannister', 'Sansa-Stark', {'weight': 3, 'book': 1}), ('Jaime-Lannister', 'Tyrion-Lannister', {'weight': 36, 'book': 1}), ('Jaime-Lannister', 'Tywin-Lannister', {'weight': 16, 'book': 1}), ('Jaime-Lannister', 'Varys', {'weight': 3, 'book': 1}), ('Jaime-Lannister', 'Wyl-(guard)', {'weight': 3, 'book': 1}), ('Tywin-Lannister', 'Bronn', {'weight': 4, 'book': 1}), ('Tywin-Lannister', 'Brynden-Tully', {'weight': 3, 'book': 1}), ('Tywin-Lannister', 'Catelyn-Stark', {'weight': 7, 'book': 1}), ('Tywin-Lannister', 'Cersei-Lannister', {'weight': 10, 'book': 1}), ('Tywin-Lannister', 'Eddard-Stark', {'weight': 18, 'book': 1}), ('Tywin-Lannister', 'Gregor-Clegane', {'weight': 6, 'book': 1}), ('Tywin-Lannister', 'Joffrey-Baratheon', {'weight': 3, 'book': 1}), ('Tywin-Lannister', 'Jon-Umber-(Greatjon)', {'weight': 3, 'book': 1}), ('Tywin-Lannister', 'Kevan-Lannister', {'weight': 9, 'book': 1}), ('Tywin-Lannister', 'Marq-Piper', {'weight': 3, 'book': 1}), ('Tywin-Lannister', 'Pycelle', {'weight': 4, 'book': 1}), ('Tywin-Lannister', 'Rhaegar-Targaryen', {'weight': 4, 'book': 1}), ('Tywin-Lannister', 'Robb-Stark', {'weight': 9, 'book': 1}), ('Tywin-Lannister', 'Robert-Baratheon', {'weight': 13, 'book': 1}), ('Tywin-Lannister', 'Roose-Bolton', {'weight': 4, 'book': 1}), ('Tywin-Lannister', 'Stannis-Baratheon', {'weight': 4, 'book': 1}), ('Tywin-Lannister', 'Theon-Greyjoy', {'weight': 3, 'book': 1}), ('Tywin-Lannister', 'Tyrion-Lannister', {'weight': 40, 'book': 1}), ('Tywin-Lannister', 'Varys', {'weight': 4, 'book': 1}), ('Tywin-Lannister', 'Walder-Frey', {'weight': 8, 'book': 1}), ('Aegon-I-Targaryen', 'Daenerys-Targaryen', {'weight': 5, 'book': 1}), ('Aegon-I-Targaryen', 'Eddard-Stark', {'weight': 4, 'book': 1}), ('Daenerys-Targaryen', 'Aggo', {'weight': 11, 'book': 1}), ('Daenerys-Targaryen', 'Cohollo', {'weight': 7, 'book': 1}), ('Daenerys-Targaryen', 'Doreah', {'weight': 15, 'book': 1}), ('Daenerys-Targaryen', 'Drogo', {'weight': 101, 'book': 1}), ('Daenerys-Targaryen', 'Eddard-Stark', {'weight': 5, 'book': 1}), ('Daenerys-Targaryen', 'Eroeh', {'weight': 5, 'book': 1}), ('Daenerys-Targaryen', 'Haggo', {'weight': 12, 'book': 1}), ('Daenerys-Targaryen', 'Illyrio-Mopatis', {'weight': 24, 'book': 1}), ('Daenerys-Targaryen', 'Irri', {'weight': 25, 'book': 1}), ('Daenerys-Targaryen', 'Jhiqui', {'weight': 26, 'book': 1}), ('Daenerys-Targaryen', 'Jhogo', {'weight': 17, 'book': 1}), ('Daenerys-Targaryen', 'Jorah-Mormont', {'weight': 75, 'book': 1}), ('Daenerys-Targaryen', 'Mirri-Maz-Duur', {'weight': 31, 'book': 1}), ('Daenerys-Targaryen', 'Qotho', {'weight': 18, 'book': 1}), ('Daenerys-Targaryen', 'Quaro', {'weight': 5, 'book': 1}), ('Daenerys-Targaryen', 'Rakharo', {'weight': 4, 'book': 1}), ('Daenerys-Targaryen', 'Rhaegar-Targaryen', {'weight': 4, 'book': 1}), ('Daenerys-Targaryen', 'Robert-Baratheon', {'weight': 11, 'book': 1}), ('Daenerys-Targaryen', 'Varys', {'weight': 5, 'book': 1}), ('Daenerys-Targaryen', 'Viserys-Targaryen', {'weight': 37, 'book': 1}), ('Eddard-Stark', 'Aerys-II-Targaryen', {'weight': 10, 'book': 1}), ('Eddard-Stark', 'Alyn', {'weight': 11, 'book': 1}), ('Eddard-Stark', 'Arya-Stark', {'weight': 30, 'book': 1}), ('Eddard-Stark', 'Balon-Greyjoy', {'weight': 3, 'book': 1}), ('Eddard-Stark', 'Barristan-Selmy', {'weight': 28, 'book': 1}), ('Eddard-Stark', 'Beric-Dondarrion', {'weight': 3, 'book': 1}), ('Eddard-Stark', 'Bran-Stark', {'weight': 19, 'book': 1}), ('Eddard-Stark', 'Brandon-Stark', {'weight': 11, 'book': 1}), ('Eddard-Stark', 'Catelyn-Stark', {'weight': 64, 'book': 1}), ('Eddard-Stark', 'Cayn', {'weight': 7, 'book': 1}), ('Eddard-Stark', 'Cersei-Lannister', {'weight': 69, 'book': 1}), ('Eddard-Stark', 'Daryn-Hornwood', {'weight': 3, 'book': 1}), ('Eddard-Stark', 'Desmond', {'weight': 4, 'book': 1}), ('Eddard-Stark', 'Edmure-Tully', {'weight': 3, 'book': 1}), ('Eddard-Stark', 'Galbart-Glover', {'weight': 4, 'book': 1}), ('Eddard-Stark', 'Gendry', {'weight': 3, 'book': 1}), ('Eddard-Stark', 'Gerold-Hightower', {'weight': 3, 'book': 1}), ('Eddard-Stark', 'Gregor-Clegane', {'weight': 10, 'book': 1}), ('Eddard-Stark', 'Harwin', {'weight': 5, 'book': 1}), ('Eddard-Stark', 'High-Septon-(fat_one)', {'weight': 4, 'book': 1}), ('Eddard-Stark', 'Howland-Reed', {'weight': 3, 'book': 1}), ('Eddard-Stark', 'Ilyn-Payne', {'weight': 6, 'book': 1}), ('Eddard-Stark', 'Jacks', {'weight': 4, 'book': 1}), ('Eddard-Stark', 'Janos-Slynt', {'weight': 4, 'book': 1}), ('Eddard-Stark', 'Joffrey-Baratheon', {'weight': 26, 'book': 1}), ('Eddard-Stark', 'Jon-Arryn', {'weight': 47, 'book': 1}), ('Eddard-Stark', 'Jon-Snow', {'weight': 38, 'book': 1}), ('Eddard-Stark', 'Jory-Cassel', {'weight': 32, 'book': 1}), ('Eddard-Stark', 'Joss', {'weight': 5, 'book': 1}), ('Eddard-Stark', 'Loras-Tyrell', {'weight': 12, 'book': 1}), ('Eddard-Stark', 'Luwin', {'weight': 16, 'book': 1}), ('Eddard-Stark', 'Lyanna-Stark', {'weight': 19, 'book': 1}), ('Eddard-Stark', 'Lysa-Arryn', {'weight': 12, 'book': 1}), ('Eddard-Stark', 'Marq-Piper', {'weight': 3, 'book': 1}), ('Eddard-Stark', 'Mordane', {'weight': 11, 'book': 1}), ('Eddard-Stark', 'Mycah', {'weight': 3, 'book': 1}), ('Eddard-Stark', 'Petyr-Baelish', {'weight': 81, 'book': 1}), ('Eddard-Stark', 'Porther', {'weight': 4, 'book': 1}), ('Eddard-Stark', 'Pycelle', {'weight': 33, 'book': 1}), ('Eddard-Stark', 'Raymun-Darry', {'weight': 4, 'book': 1}), ('Eddard-Stark', 'Renly-Baratheon', {'weight': 33, 'book': 1}), ('Eddard-Stark', 'Rhaegar-Targaryen', {'weight': 10, 'book': 1}), ('Eddard-Stark', 'Rickard-Karstark', {'weight': 4, 'book': 1}), ('Eddard-Stark', 'Rickon-Stark', {'weight': 4, 'book': 1}), ('Eddard-Stark', 'Robb-Stark', {'weight': 16, 'book': 1}), ('Eddard-Stark', 'Robert-Baratheon', {'weight': 291, 'book': 1}), ('Eddard-Stark', 'Rodrik-Cassel', {'weight': 7, 'book': 1}), ('Eddard-Stark', 'Sandor-Clegane', {'weight': 10, 'book': 1}), ('Eddard-Stark', 'Sansa-Stark', {'weight': 34, 'book': 1}), ('Eddard-Stark', 'Stannis-Baratheon', {'weight': 18, 'book': 1}), ('Eddard-Stark', 'Syrio-Forel', {'weight': 6, 'book': 1}), ('Eddard-Stark', 'Theon-Greyjoy', {'weight': 5, 'book': 1}), ('Eddard-Stark', 'Tobho-Mott', {'weight': 7, 'book': 1}), ('Eddard-Stark', 'Tomard', {'weight': 15, 'book': 1}), ('Eddard-Stark', 'Torrhen-Karstark', {'weight': 5, 'book': 1}), ('Eddard-Stark', 'Tregar', {'weight': 4, 'book': 1}), ('Eddard-Stark', 'Tyrion-Lannister', {'weight': 21, 'book': 1}), ('Eddard-Stark', 'Varly', {'weight': 4, 'book': 1}), ('Eddard-Stark', 'Varys', {'weight': 61, 'book': 1}), ('Eddard-Stark', 'Vayon-Poole', {'weight': 12, 'book': 1}), ('Eddard-Stark', 'Wyl-(guard)', {'weight': 3, 'book': 1}), ('Eddard-Stark', 'Wylla', {'weight': 3, 'book': 1}), ('Aemon-Targaryen-(Maester-Aemon)', 'Alliser-Thorne', {'weight': 4, 'book': 1}), ('Aemon-Targaryen-(Maester-Aemon)', 'Bowen-Marsh', {'weight': 4, 'book': 1}), ('Aemon-Targaryen-(Maester-Aemon)', 'Chett', {'weight': 9, 'book': 1}), ('Aemon-Targaryen-(Maester-Aemon)', 'Clydas', {'weight': 5, 'book': 1}), ('Aemon-Targaryen-(Maester-Aemon)', 'Jeor-Mormont', {'weight': 13, 'book': 1}), ('Aemon-Targaryen-(Maester-Aemon)', 'Jon-Snow', {'weight': 34, 'book': 1}), ('Aemon-Targaryen-(Maester-Aemon)', 'Samwell-Tarly', {'weight': 5, 'book': 1}), ('Alliser-Thorne', 'Bowen-Marsh', {'weight': 3, 'book': 1}), ('Alliser-Thorne', 'Grenn', {'weight': 3, 'book': 1}), ('Alliser-Thorne', 'Halder', {'weight': 4, 'book': 1}), ('Alliser-Thorne', 'Jeor-Mormont', {'weight': 10, 'book': 1}), ('Alliser-Thorne', 'Jon-Snow', {'weight': 32, 'book': 1}), ('Alliser-Thorne', 'Pypar', {'weight': 4, 'book': 1}), ('Alliser-Thorne', 'Rast', {'weight': 5, 'book': 1}), ('Alliser-Thorne', 'Samwell-Tarly', {'weight': 8, 'book': 1}), ('Alliser-Thorne', 'Tyrion-Lannister', {'weight': 7, 'book': 1}), ('Bowen-Marsh', 'Jeor-Mormont', {'weight': 8, 'book': 1}), ('Bowen-Marsh', 'Jon-Snow', {'weight': 10, 'book': 1}), ('Bowen-Marsh', 'Samwell-Tarly', {'weight': 3, 'book': 1}), ('Chett', 'Jon-Snow', {'weight': 4, 'book': 1}), ('Chett', 'Samwell-Tarly', {'weight': 6, 'book': 1}), ('Jeor-Mormont', 'Benjen-Stark', {'weight': 9, 'book': 1}), ('Jeor-Mormont', 'Bran-Stark', {'weight': 4, 'book': 1}), ('Jeor-Mormont', 'Gared', {'weight': 4, 'book': 1}), ('Jeor-Mormont', 'Grenn', {'weight': 3, 'book': 1}), ('Jeor-Mormont', 'Jaremy-Rykker', {'weight': 11, 'book': 1}), ('Jeor-Mormont', 'Jon-Snow', {'weight': 81, 'book': 1}), ('Jeor-Mormont', 'Robert-Baratheon', {'weight': 4, 'book': 1}), ('Jeor-Mormont', 'Samwell-Tarly', {'weight': 8, 'book': 1}), ('Jeor-Mormont', 'Tyrion-Lannister', {'weight': 23, 'book': 1}), ('Jeor-Mormont', 'Yoren', {'weight': 3, 'book': 1}), ('Jon-Snow', 'Albett', {'weight': 5, 'book': 1}), ('Jon-Snow', 'Arya-Stark', {'weight': 37, 'book': 1}), ('Jon-Snow', 'Benjen-Stark', {'weight': 41, 'book': 1}), ('Jon-Snow', 'Bran-Stark', {'weight': 56, 'book': 1}), ('Jon-Snow', 'Catelyn-Stark', {'weight': 14, 'book': 1}), ('Jon-Snow', 'Cersei-Lannister', {'weight': 4, 'book': 1}), ('Jon-Snow', 'Dareon', {'weight': 6, 'book': 1}), ('Jon-Snow', 'Donal-Noye', {'weight': 7, 'book': 1}), ('Jon-Snow', 'Dywen', {'weight': 4, 'book': 1}), ('Jon-Snow', 'Grenn', {'weight': 31, 'book': 1}), ('Jon-Snow', 'Halder', {'weight': 23, 'book': 1}), ('Jon-Snow', 'Hobb', {'weight': 5, 'book': 1}), ('Jon-Snow', 'Jaremy-Rykker', {'weight': 7, 'book': 1}), ('Jon-Snow', 'Joffrey-Baratheon', {'weight': 10, 'book': 1}), ('Jon-Snow', 'Jory-Cassel', {'weight': 3, 'book': 1}), ('Jon-Snow', 'Luwin', {'weight': 10, 'book': 1}), ('Jon-Snow', 'Matthar', {'weight': 3, 'book': 1}), ('Jon-Snow', 'Mordane', {'weight': 4, 'book': 1}), ('Jon-Snow', 'Othor', {'weight': 5, 'book': 1}), ('Jon-Snow', 'Pypar', {'weight': 45, 'book': 1}), ('Jon-Snow', 'Rast', {'weight': 8, 'book': 1}), ('Jon-Snow', 'Rickon-Stark', {'weight': 11, 'book': 1}), ('Jon-Snow', 'Robb-Stark', {'weight': 53, 'book': 1}), ('Jon-Snow', 'Robert-Baratheon', {'weight': 18, 'book': 1}), ('Jon-Snow', 'Rodrik-Cassel', {'weight': 3, 'book': 1}), ('Jon-Snow', 'Samwell-Tarly', {'weight': 81, 'book': 1}), ('Jon-Snow', 'Sansa-Stark', {'weight': 8, 'book': 1}), ('Jon-Snow', 'Theon-Greyjoy', {'weight': 8, 'book': 1}), ('Jon-Snow', 'Todder', {'weight': 13, 'book': 1}), ('Jon-Snow', 'Tyrion-Lannister', {'weight': 56, 'book': 1}), ('Jon-Snow', 'Yoren', {'weight': 6, 'book': 1}), ('Samwell-Tarly', 'Grenn', {'weight': 8, 'book': 1}), ('Samwell-Tarly', 'Halder', {'weight': 6, 'book': 1}), ('Samwell-Tarly', 'Pypar', {'weight': 11, 'book': 1}), ('Samwell-Tarly', 'Randyll-Tarly', {'weight': 5, 'book': 1}), ('Samwell-Tarly', 'Rast', {'weight': 3, 'book': 1}), ('Samwell-Tarly', 'Robb-Stark', {'weight': 4, 'book': 1}), ('Aerys-II-Targaryen', 'Brandon-Stark', {'weight': 4, 'book': 1}), ('Aerys-II-Targaryen', 'Gerold-Hightower', {'weight': 3, 'book': 1}), ('Aerys-II-Targaryen', 'Jon-Arryn', {'weight': 3, 'book': 1}), ('Aerys-II-Targaryen', 'Robert-Baratheon', {'weight': 12, 'book': 1}), ('Brandon-Stark', 'Lyanna-Stark', {'weight': 4, 'book': 1}), ('Brandon-Stark', 'Petyr-Baelish', {'weight': 14, 'book': 1}), ('Brandon-Stark', 'Rickard-Stark', {'weight': 3, 'book': 1}), ('Brandon-Stark', 'Robert-Baratheon', {'weight': 5, 'book': 1}), ('Gerold-Hightower', 'Arthur-Dayne', {'weight': 4, 'book': 1}), ('Gerold-Hightower', 'Oswell-Whent', {'weight': 3, 'book': 1}), ('Gerold-Hightower', 'Robert-Baratheon', {'weight': 4, 'book': 1}), ('Jon-Arryn', 'Barristan-Selmy', {'weight': 4, 'book': 1}), ('Jon-Arryn', 'Bran-Stark', {'weight': 7, 'book': 1}), ('Jon-Arryn', 'Catelyn-Stark', {'weight': 11, 'book': 1}), ('Jon-Arryn', 'Cersei-Lannister', {'weight': 7, 'book': 1}), ('Jon-Arryn', 'Hugh', {'weight': 3, 'book': 1}), ('Jon-Arryn', 'Lysa-Arryn', {'weight': 12, 'book': 1}), ('Jon-Arryn', 'Petyr-Baelish', {'weight': 4, 'book': 1}), ('Jon-Arryn', 'Pycelle', {'weight': 11, 'book': 1}), ('Jon-Arryn', 'Robert-Baratheon', {'weight': 32, 'book': 1}), ('Jon-Arryn', 'Stannis-Baratheon', {'weight': 13, 'book': 1}), ('Jon-Arryn', 'Tyrion-Lannister', {'weight': 5, 'book': 1}), ('Jon-Arryn', 'Varys', {'weight': 5, 'book': 1}), ('Robert-Baratheon', 'Alyn', {'weight': 4, 'book': 1}), ('Robert-Baratheon', 'Arya-Stark', {'weight': 8, 'book': 1}), ('Robert-Baratheon', 'Balon-Greyjoy', {'weight': 4, 'book': 1}), ('Robert-Baratheon', 'Barristan-Selmy', {'weight': 40, 'book': 1}), ('Robert-Baratheon', 'Benjen-Stark', {'weight': 3, 'book': 1}), ('Robert-Baratheon', 'Beric-Dondarrion', {'weight': 5, 'book': 1}), ('Robert-Baratheon', 'Bran-Stark', {'weight': 11, 'book': 1}), ('Robert-Baratheon', 'Catelyn-Stark', {'weight': 22, 'book': 1}), ('Robert-Baratheon', 'Cersei-Lannister', {'weight': 72, 'book': 1}), ('Robert-Baratheon', 'Drogo', {'weight': 3, 'book': 1}), ('Robert-Baratheon', 'Gregor-Clegane', {'weight': 4, 'book': 1}), ('Robert-Baratheon', 'Hoster-Tully', {'weight': 3, 'book': 1}), ('Robert-Baratheon', 'Illyrio-Mopatis', {'weight': 6, 'book': 1}), ('Robert-Baratheon', 'Ilyn-Payne', {'weight': 4, 'book': 1}), ('Robert-Baratheon', 'Janos-Slynt', {'weight': 4, 'book': 1}), ('Robert-Baratheon', 'Jeyne-Poole', {'weight': 3, 'book': 1}), ('Robert-Baratheon', 'Joffrey-Baratheon', {'weight': 30, 'book': 1}), ('Robert-Baratheon', 'Jorah-Mormont', {'weight': 3, 'book': 1}), ('Robert-Baratheon', 'Jory-Cassel', {'weight': 7, 'book': 1}), ('Robert-Baratheon', 'Lancel-Lannister', {'weight': 3, 'book': 1}), ('Robert-Baratheon', 'Loras-Tyrell', {'weight': 4, 'book': 1}), ('Robert-Baratheon', 'Lyanna-Stark', {'weight': 9, 'book': 1}), ('Robert-Baratheon', 'Lysa-Arryn', {'weight': 5, 'book': 1}), ('Robert-Baratheon', 'Meryn-Trant', {'weight': 3, 'book': 1}), ('Robert-Baratheon', 'Mordane', {'weight': 7, 'book': 1}), ('Robert-Baratheon', 'Myrcella-Baratheon', {'weight': 3, 'book': 1}), ('Robert-Baratheon', 'Petyr-Baelish', {'weight': 30, 'book': 1}), ('Robert-Baratheon', 'Pycelle', {'weight': 26, 'book': 1}), ('Robert-Baratheon', 'Raymun-Darry', {'weight': 8, 'book': 1}), ('Robert-Baratheon', 'Renly-Baratheon', {'weight': 42, 'book': 1}), ('Robert-Baratheon', 'Rhaegar-Targaryen', {'weight': 22, 'book': 1}), ('Robert-Baratheon', 'Robb-Stark', {'weight': 6, 'book': 1}), ('Robert-Baratheon', 'Sandor-Clegane', {'weight': 9, 'book': 1}), ('Robert-Baratheon', 'Sansa-Stark', {'weight': 26, 'book': 1}), ('Robert-Baratheon', 'Stannis-Baratheon', {'weight': 21, 'book': 1}), ('Robert-Baratheon', 'Tommen-Baratheon', {'weight': 3, 'book': 1}), ('Robert-Baratheon', 'Tyrion-Lannister', {'weight': 18, 'book': 1}), ('Robert-Baratheon', 'Varys', {'weight': 36, 'book': 1}), ('Robert-Baratheon', 'Vayon-Poole', {'weight': 3, 'book': 1}), ('Robert-Baratheon', 'Viserys-Targaryen', {'weight': 7, 'book': 1}), ('Aggo', 'Drogo', {'weight': 6, 'book': 1}), ('Aggo', 'Jhogo', {'weight': 4, 'book': 1}), ('Aggo', 'Jorah-Mormont', {'weight': 5, 'book': 1}), ('Aggo', 'Quaro', {'weight': 3, 'book': 1}), ('Aggo', 'Rakharo', {'weight': 7, 'book': 1}), ('Drogo', 'Cohollo', {'weight': 9, 'book': 1}), ('Drogo', 'Doreah', {'weight': 5, 'book': 1}), ('Drogo', 'Haggo', {'weight': 9, 'book': 1}), ('Drogo', 'Illyrio-Mopatis', {'weight': 16, 'book': 1}), ('Drogo', 'Irri', {'weight': 9, 'book': 1}), ('Drogo', 'Jhiqui', {'weight': 5, 'book': 1}), ('Drogo', 'Jhogo', {'weight': 7, 'book': 1}), ('Drogo', 'Jommo', {'weight': 3, 'book': 1}), ('Drogo', 'Jorah-Mormont', {'weight': 16, 'book': 1}), ('Drogo', 'Mirri-Maz-Duur', {'weight': 12, 'book': 1}), ('Drogo', 'Ogo', {'weight': 11, 'book': 1}), ('Drogo', 'Qotho', {'weight': 13, 'book': 1}), ('Drogo', 'Quaro', {'weight': 3, 'book': 1}), ('Drogo', 'Rakharo', {'weight': 4, 'book': 1}), ('Drogo', 'Rhaego', {'weight': 5, 'book': 1}), ('Drogo', 'Viserys-Targaryen', {'weight': 19, 'book': 1}), ('Jhogo', 'Irri', {'weight': 7, 'book': 1}), ('Jhogo', 'Jorah-Mormont', {'weight': 5, 'book': 1}), ('Jhogo', 'Mirri-Maz-Duur', {'weight': 3, 'book': 1}), ('Jorah-Mormont', 'Doreah', {'weight': 3, 'book': 1}), ('Jorah-Mormont', 'Illyrio-Mopatis', {'weight': 7, 'book': 1}), ('Jorah-Mormont', 'Irri', {'weight': 4, 'book': 1}), ('Jorah-Mormont', 'Jhiqui', {'weight': 4, 'book': 1}), ('Jorah-Mormont', 'Mirri-Maz-Duur', {'weight': 5, 'book': 1}), ('Jorah-Mormont', 'Qotho', {'weight': 7, 'book': 1}), ('Jorah-Mormont', 'Rhaegar-Targaryen', {'weight': 5, 'book': 1}), ('Jorah-Mormont', 'Viserys-Targaryen', {'weight': 15, 'book': 1}), ('Quaro', 'Qotho', {'weight': 4, 'book': 1}), ('Quaro', 'Rakharo', {'weight': 6, 'book': 1}), ('Rakharo', 'Haggo', {'weight': 3, 'book': 1}), ('Albett', 'Halder', {'weight': 3, 'book': 1}), ('Albett', 'Rast', {'weight': 3, 'book': 1}), ('Halder', 'Grenn', {'weight': 6, 'book': 1}), ('Halder', 'Pypar', {'weight': 8, 'book': 1}), ('Halder', 'Rast', {'weight': 3, 'book': 1}), ('Halder', 'Todder', {'weight': 3, 'book': 1}), ('Rast', 'Pypar', {'weight': 4, 'book': 1}), ('Grenn', 'Pypar', {'weight': 27, 'book': 1}), ('Grenn', 'Todder', {'weight': 7, 'book': 1}), ('Pypar', 'Todder', {'weight': 8, 'book': 1}), ('Tyrion-Lannister', 'Benjen-Stark', {'weight': 8, 'book': 1}), ('Tyrion-Lannister', 'Bran-Stark', {'weight': 31, 'book': 1}), ('Tyrion-Lannister', 'Bronn', {'weight': 61, 'book': 1}), ('Tyrion-Lannister', 'Brynden-Tully', {'weight': 4, 'book': 1}), ('Tyrion-Lannister', 'Catelyn-Stark', {'weight': 49, 'book': 1}), ('Tyrion-Lannister', 'Cersei-Lannister', {'weight': 27, 'book': 1}), ('Tyrion-Lannister', 'Chella', {'weight': 5, 'book': 1}), ('Tyrion-Lannister', 'Chiggen', {'weight': 5, 'book': 1}), ('Tyrion-Lannister', 'Conn', {'weight': 6, 'book': 1}), ('Tyrion-Lannister', 'Gregor-Clegane', {'weight': 7, 'book': 1}), ('Tyrion-Lannister', 'Gunthor-son-of-Gurn', {'weight': 7, 'book': 1}), ('Tyrion-Lannister', 'Joffrey-Baratheon', {'weight': 13, 'book': 1}), ('Tyrion-Lannister', 'Jyck', {'weight': 6, 'book': 1}), ('Tyrion-Lannister', 'Kevan-Lannister', {'weight': 15, 'book': 1}), ('Tyrion-Lannister', 'Kurleket', {'weight': 5, 'book': 1}), ('Tyrion-Lannister', 'Leo-Lefford', {'weight': 4, 'book': 1}), ('Tyrion-Lannister', 'Luwin', {'weight': 10, 'book': 1}), ('Tyrion-Lannister', 'Lysa-Arryn', {'weight': 25, 'book': 1}), ('Tyrion-Lannister', 'Marillion', {'weight': 10, 'book': 1}), ('Tyrion-Lannister', 'Mord', {'weight': 20, 'book': 1}), ('Tyrion-Lannister', 'Morrec', {'weight': 5, 'book': 1}), ('Tyrion-Lannister', 'Petyr-Baelish', {'weight': 11, 'book': 1}), ('Tyrion-Lannister', 'Renly-Baratheon', {'weight': 4, 'book': 1}), ('Tyrion-Lannister', 'Rickon-Stark', {'weight': 4, 'book': 1}), ('Tyrion-Lannister', 'Robb-Stark', {'weight': 11, 'book': 1}), ('Tyrion-Lannister', 'Robert-Arryn', {'weight': 9, 'book': 1}), ('Tyrion-Lannister', 'Rodrik-Cassel', {'weight': 10, 'book': 1}), ('Tyrion-Lannister', 'Sandor-Clegane', {'weight': 5, 'book': 1}), ('Tyrion-Lannister', 'Sansa-Stark', {'weight': 3, 'book': 1}), ('Tyrion-Lannister', 'Shae', {'weight': 12, 'book': 1}), ('Tyrion-Lannister', 'Shagga', {'weight': 17, 'book': 1}), ('Tyrion-Lannister', 'Theon-Greyjoy', {'weight': 3, 'book': 1}), ('Tyrion-Lannister', 'Timett', {'weight': 3, 'book': 1}), ('Tyrion-Lannister', 'Tommen-Baratheon', {'weight': 3, 'book': 1}), ('Tyrion-Lannister', 'Vardis-Egen', {'weight': 9, 'book': 1}), ('Tyrion-Lannister', 'Varys', {'weight': 3, 'book': 1}), ('Tyrion-Lannister', 'Willis-Wode', {'weight': 4, 'book': 1}), ('Tyrion-Lannister', 'Yoren', {'weight': 10, 'book': 1}), ('Alyn', 'Harwin', {'weight': 6, 'book': 1}), ('Alyn', 'Jory-Cassel', {'weight': 8, 'book': 1}), ('Alyn', 'Tomard', {'weight': 3, 'book': 1}), ('Harwin', 'Hullen', {'weight': 3, 'book': 1}), ('Harwin', 'Jory-Cassel', {'weight': 4, 'book': 1}), ('Jory-Cassel', 'Arya-Stark', {'weight': 12, 'book': 1}), ('Jory-Cassel', 'Bran-Stark', {'weight': 11, 'book': 1}), ('Jory-Cassel', 'Cersei-Lannister', {'weight': 5, 'book': 1}), ('Jory-Cassel', 'Heward', {'weight': 5, 'book': 1}), ('Jory-Cassel', 'Hullen', {'weight': 5, 'book': 1}), ('Jory-Cassel', 'Mordane', {'weight': 3, 'book': 1}), ('Jory-Cassel', 'Petyr-Baelish', {'weight': 8, 'book': 1}), ('Jory-Cassel', 'Robb-Stark', {'weight': 9, 'book': 1}), ('Jory-Cassel', 'Rodrik-Cassel', {'weight': 5, 'book': 1}), ('Jory-Cassel', 'Sansa-Stark', {'weight': 9, 'book': 1}), ('Jory-Cassel', 'Stannis-Baratheon', {'weight': 3, 'book': 1}), ('Jory-Cassel', 'Theon-Greyjoy', {'weight': 3, 'book': 1}), ('Jory-Cassel', 'Tomard', {'weight': 5, 'book': 1}), ('Jory-Cassel', 'Vayon-Poole', {'weight': 5, 'book': 1}), ('Jory-Cassel', 'Wyl-(guard)', {'weight': 6, 'book': 1}), ('Tomard', 'Arya-Stark', {'weight': 6, 'book': 1}), ('Tomard', 'Cayn', {'weight': 6, 'book': 1}), ('Tomard', 'Petyr-Baelish', {'weight': 4, 'book': 1}), ('Tomard', 'Sansa-Stark', {'weight': 3, 'book': 1}), ('Arya-Stark', 'Benjen-Stark', {'weight': 3, 'book': 1}), ('Arya-Stark', 'Bran-Stark', {'weight': 14, 'book': 1}), ('Arya-Stark', 'Catelyn-Stark', {'weight': 5, 'book': 1}), ('Arya-Stark', 'Cersei-Lannister', {'weight': 12, 'book': 1}), ('Arya-Stark', 'Desmond', {'weight': 3, 'book': 1}), ('Arya-Stark', 'Ilyn-Payne', {'weight': 5, 'book': 1}), ('Arya-Stark', 'Jeyne-Poole', {'weight': 10, 'book': 1}), ('Arya-Stark', 'Joffrey-Baratheon', {'weight': 39, 'book': 1}), ('Arya-Stark', 'Meryn-Trant', {'weight': 4, 'book': 1}), ('Arya-Stark', 'Mordane', {'weight': 39, 'book': 1}), ('Arya-Stark', 'Mycah', {'weight': 18, 'book': 1}), ('Arya-Stark', 'Myrcella-Baratheon', {'weight': 13, 'book': 1}), ('Arya-Stark', 'Petyr-Baelish', {'weight': 3, 'book': 1}), ('Arya-Stark', 'Rickon-Stark', {'weight': 7, 'book': 1}), ('Arya-Stark', 'Robb-Stark', {'weight': 15, 'book': 1}), ('Arya-Stark', 'Rodrik-Cassel', {'weight': 3, 'book': 1}), ('Arya-Stark', 'Sandor-Clegane', {'weight': 7, 'book': 1}), ('Arya-Stark', 'Sansa-Stark', {'weight': 104, 'book': 1}), ('Arya-Stark', 'Syrio-Forel', {'weight': 20, 'book': 1}), ('Arya-Stark', 'Tommen-Baratheon', {'weight': 5, 'book': 1}), ('Arya-Stark', 'Vayon-Poole', {'weight': 4, 'book': 1}), ('Arya-Stark', 'Yoren', {'weight': 4, 'book': 1}), ('Benjen-Stark', 'Bran-Stark', {'weight': 6, 'book': 1}), ('Benjen-Stark', 'Cersei-Lannister', {'weight': 3, 'book': 1}), ('Benjen-Stark', 'Jaremy-Rykker', {'weight': 3, 'book': 1}), ('Benjen-Stark', 'Luwin', {'weight': 7, 'book': 1}), ('Benjen-Stark', 'Mance-Rayder', {'weight': 3, 'book': 1}), ('Benjen-Stark', 'Robb-Stark', {'weight': 7, 'book': 1}), ('Benjen-Stark', 'Theon-Greyjoy', {'weight': 4, 'book': 1}), ('Benjen-Stark', 'Waymar-Royce', {'weight': 3, 'book': 1}), ('Benjen-Stark', 'Yoren', {'weight': 4, 'book': 1}), ('Bran-Stark', 'Catelyn-Stark', {'weight': 18, 'book': 1}), ('Bran-Stark', 'Cersei-Lannister', {'weight': 6, 'book': 1}), ('Bran-Stark', 'Hali', {'weight': 3, 'book': 1}), ('Bran-Stark', 'Hallis-Mollen', {'weight': 3, 'book': 1}), ('Bran-Stark', 'Hodor', {'weight': 29, 'book': 1}), ('Bran-Stark', 'Hullen', {'weight': 3, 'book': 1}), ('Bran-Stark', 'Joffrey-Baratheon', {'weight': 3, 'book': 1}), ('Bran-Stark', 'Joseth', {'weight': 4, 'book': 1}), ('Bran-Stark', 'Luwin', {'weight': 65, 'book': 1}), ('Bran-Stark', 'Nan', {'weight': 17, 'book': 1}), ('Bran-Stark', 'Osha', {'weight': 12, 'book': 1}), ('Bran-Stark', 'Petyr-Baelish', {'weight': 3, 'book': 1}), ('Bran-Stark', 'Renly-Baratheon', {'weight': 3, 'book': 1}), ('Bran-Stark', 'Rickard-Karstark', {'weight': 4, 'book': 1}), ('Bran-Stark', 'Rickard-Stark', {'weight': 4, 'book': 1}), ('Bran-Stark', 'Rickon-Stark', {'weight': 32, 'book': 1}), ('Bran-Stark', 'Robb-Stark', {'weight': 112, 'book': 1}), ('Bran-Stark', 'Rodrik-Cassel', {'weight': 6, 'book': 1}), ('Bran-Stark', 'Sansa-Stark', {'weight': 10, 'book': 1}), ('Bran-Stark', 'Stiv', {'weight': 4, 'book': 1}), ('Bran-Stark', 'Theon-Greyjoy', {'weight': 23, 'book': 1}), ('Bran-Stark', 'Tommen-Baratheon', {'weight': 5, 'book': 1}), ('Bran-Stark', 'Yoren', {'weight': 3, 'book': 1}), ('Catelyn-Stark', 'Bronn', {'weight': 6, 'book': 1}), ('Catelyn-Stark', 'Brynden-Tully', {'weight': 16, 'book': 1}), ('Catelyn-Stark', 'Cersei-Lannister', {'weight': 12, 'book': 1}), ('Catelyn-Stark', 'Colemon', {'weight': 3, 'book': 1}), ('Catelyn-Stark', 'Donnel-Waynwood', {'weight': 3, 'book': 1}), ('Catelyn-Stark', 'Edmure-Tully', {'weight': 7, 'book': 1}), ('Catelyn-Stark', 'Eon-Hunter', {'weight': 3, 'book': 1}), ('Catelyn-Stark', 'Hallis-Mollen', {'weight': 10, 'book': 1}), ('Catelyn-Stark', 'Hoster-Tully', {'weight': 6, 'book': 1}), ('Catelyn-Stark', 'Joffrey-Baratheon', {'weight': 4, 'book': 1}), ('Catelyn-Stark', 'Jon-Umber-(Greatjon)', {'weight': 4, 'book': 1}), ('Catelyn-Stark', 'Luwin', {'weight': 14, 'book': 1}), ('Catelyn-Stark', 'Lysa-Arryn', {'weight': 33, 'book': 1}), ('Catelyn-Stark', 'Marillion', {'weight': 6, 'book': 1}), ('Catelyn-Stark', 'Masha-Heddle', {'weight': 5, 'book': 1}), ('Catelyn-Stark', 'Moreo-Tumitis', {'weight': 3, 'book': 1}), ('Catelyn-Stark', 'Mya-Stone', {'weight': 9, 'book': 1}), ('Catelyn-Stark', 'Mychel-Redfort', {'weight': 3, 'book': 1}), ('Catelyn-Stark', 'Nestor-Royce', {'weight': 3, 'book': 1}), ('Catelyn-Stark', 'Petyr-Baelish', {'weight': 22, 'book': 1}), ('Catelyn-Stark', 'Rickard-Karstark', {'weight': 6, 'book': 1}), ('Catelyn-Stark', 'Rickon-Stark', {'weight': 3, 'book': 1}), ('Catelyn-Stark', 'Robb-Stark', {'weight': 49, 'book': 1}), ('Catelyn-Stark', 'Robert-Arryn', {'weight': 3, 'book': 1}), ('Catelyn-Stark', 'Rodrik-Cassel', {'weight': 25, 'book': 1}), ('Catelyn-Stark', 'Sansa-Stark', {'weight': 9, 'book': 1}), ('Catelyn-Stark', 'Stevron-Frey', {'weight': 5, 'book': 1}), ('Catelyn-Stark', 'Theon-Greyjoy', {'weight': 9, 'book': 1}), ('Catelyn-Stark', 'Tytos-Blackwood', {'weight': 4, 'book': 1}), ('Catelyn-Stark', 'Vardis-Egen', {'weight': 5, 'book': 1}), ('Catelyn-Stark', 'Varys', {'weight': 10, 'book': 1}), ('Catelyn-Stark', 'Walder-Frey', {'weight': 13, 'book': 1}), ('Catelyn-Stark', 'Wendel-Manderly', {'weight': 3, 'book': 1}), ('Catelyn-Stark', 'Willis-Wode', {'weight': 5, 'book': 1}), ('Cersei-Lannister', 'Arys-Oakheart', {'weight': 3, 'book': 1}), ('Cersei-Lannister', 'Barristan-Selmy', {'weight': 12, 'book': 1}), ('Cersei-Lannister', 'Boros-Blount', {'weight': 9, 'book': 1}), ('Cersei-Lannister', 'Ilyn-Payne', {'weight': 4, 'book': 1}), ('Cersei-Lannister', 'Janos-Slynt', {'weight': 4, 'book': 1}), ('Cersei-Lannister', 'Joffrey-Baratheon', {'weight': 42, 'book': 1}), ('Cersei-Lannister', 'Meryn-Trant', {'weight': 4, 'book': 1}), ('Cersei-Lannister', 'Mordane', {'weight': 3, 'book': 1}), ('Cersei-Lannister', 'Myrcella-Baratheon', {'weight': 7, 'book': 1}), ('Cersei-Lannister', 'Petyr-Baelish', {'weight': 13, 'book': 1}), ('Cersei-Lannister', 'Pycelle', {'weight': 9, 'book': 1}), ('Cersei-Lannister', 'Renly-Baratheon', {'weight': 5, 'book': 1}), ('Cersei-Lannister', 'Sandor-Clegane', {'weight': 5, 'book': 1}), ('Cersei-Lannister', 'Sansa-Stark', {'weight': 29, 'book': 1}), ('Cersei-Lannister', 'Stannis-Baratheon', {'weight': 5, 'book': 1}), ('Cersei-Lannister', 'Tommen-Baratheon', {'weight': 4, 'book': 1}), ('Cersei-Lannister', 'Varys', {'weight': 19, 'book': 1}), ('Cersei-Lannister', 'Vayon-Poole', {'weight': 4, 'book': 1}), ('Ilyn-Payne', 'Jeyne-Poole', {'weight': 3, 'book': 1}), ('Ilyn-Payne', 'Joffrey-Baratheon', {'weight': 4, 'book': 1}), ('Ilyn-Payne', 'Loras-Tyrell', {'weight': 3, 'book': 1}), ('Ilyn-Payne', 'Sansa-Stark', {'weight': 9, 'book': 1}), ('Ilyn-Payne', 'Varys', {'weight': 5, 'book': 1}), ('Jeyne-Poole', 'Loras-Tyrell', {'weight': 4, 'book': 1}), ('Jeyne-Poole', 'Mordane', {'weight': 7, 'book': 1}), ('Jeyne-Poole', 'Sansa-Stark', {'weight': 27, 'book': 1}), ('Joffrey-Baratheon', 'Barristan-Selmy', {'weight': 6, 'book': 1}), ('Joffrey-Baratheon', 'Boros-Blount', {'weight': 3, 'book': 1}), ('Joffrey-Baratheon', 'High-Septon-(fat_one)', {'weight': 4, 'book': 1}), ('Joffrey-Baratheon', 'Janos-Slynt', {'weight': 4, 'book': 1}), ('Joffrey-Baratheon', 'Loras-Tyrell', {'weight': 3, 'book': 1}), ('Joffrey-Baratheon', 'Meryn-Trant', {'weight': 3, 'book': 1}), ('Joffrey-Baratheon', 'Mordane', {'weight': 9, 'book': 1}), ('Joffrey-Baratheon', 'Mycah', {'weight': 14, 'book': 1}), ('Joffrey-Baratheon', 'Myrcella-Baratheon', {'weight': 5, 'book': 1}), ('Joffrey-Baratheon', 'Petyr-Baelish', {'weight': 11, 'book': 1}), ('Joffrey-Baratheon', 'Pycelle', {'weight': 4, 'book': 1}), ('Joffrey-Baratheon', 'Renly-Baratheon', {'weight': 9, 'book': 1}), ('Joffrey-Baratheon', 'Robb-Stark', {'weight': 19, 'book': 1}), ('Joffrey-Baratheon', 'Rodrik-Cassel', {'weight': 9, 'book': 1}), ('Joffrey-Baratheon', 'Sandor-Clegane', {'weight': 24, 'book': 1}), ('Joffrey-Baratheon', 'Sansa-Stark', {'weight': 87, 'book': 1}), ('Joffrey-Baratheon', 'Stannis-Baratheon', {'weight': 7, 'book': 1}), ('Joffrey-Baratheon', 'Tommen-Baratheon', {'weight': 8, 'book': 1}), ('Joffrey-Baratheon', 'Varys', {'weight': 7, 'book': 1}), ('Meryn-Trant', 'Barristan-Selmy', {'weight': 3, 'book': 1}), ('Meryn-Trant', 'Boros-Blount', {'weight': 5, 'book': 1}), ('Meryn-Trant', 'Sandor-Clegane', {'weight': 4, 'book': 1}), ('Meryn-Trant', 'Sansa-Stark', {'weight': 5, 'book': 1}), ('Meryn-Trant', 'Syrio-Forel', {'weight': 5, 'book': 1}), ('Mordane', 'Myrcella-Baratheon', {'weight': 12, 'book': 1}), ('Mordane', 'Petyr-Baelish', {'weight': 3, 'book': 1}), ('Mordane', 'Sansa-Stark', {'weight': 43, 'book': 1}), ('Mycah', 'Sandor-Clegane', {'weight': 5, 'book': 1}), ('Mycah', 'Sansa-Stark', {'weight': 10, 'book': 1}), ('Myrcella-Baratheon', 'Sansa-Stark', {'weight': 8, 'book': 1}), ('Myrcella-Baratheon', 'Tommen-Baratheon', {'weight': 6, 'book': 1}), ('Petyr-Baelish', 'Barristan-Selmy', {'weight': 7, 'book': 1}), ('Petyr-Baelish', 'Edmure-Tully', {'weight': 4, 'book': 1}), ('Petyr-Baelish', 'Gregor-Clegane', {'weight': 3, 'book': 1}), ('Petyr-Baelish', 'Janos-Slynt', {'weight': 3, 'book': 1}), ('Petyr-Baelish', 'Loras-Tyrell', {'weight': 5, 'book': 1}), ('Petyr-Baelish', 'Lysa-Arryn', {'weight': 4, 'book': 1}), ('Petyr-Baelish', 'Pycelle', {'weight': 14, 'book': 1}), ('Petyr-Baelish', 'Renly-Baratheon', {'weight': 12, 'book': 1}), ('Petyr-Baelish', 'Rodrik-Cassel', {'weight': 7, 'book': 1}), ('Petyr-Baelish', 'Sandor-Clegane', {'weight': 3, 'book': 1}), ('Petyr-Baelish', 'Sansa-Stark', {'weight': 8, 'book': 1}), ('Petyr-Baelish', 'Varys', {'weight': 29, 'book': 1}), ('Rickon-Stark', 'Luwin', {'weight': 9, 'book': 1}), ('Rickon-Stark', 'Robb-Stark', {'weight': 20, 'book': 1}), ('Rickon-Stark', 'Sansa-Stark', {'weight': 8, 'book': 1}), ('Robb-Stark', 'Brynden-Tully', {'weight': 9, 'book': 1}), ('Robb-Stark', 'Edmure-Tully', {'weight': 5, 'book': 1}), ('Robb-Stark', 'Galbart-Glover', {'weight': 5, 'book': 1}), ('Robb-Stark', 'Hallis-Mollen', {'weight': 13, 'book': 1}), ('Robb-Stark', 'Hodor', {'weight': 5, 'book': 1}), ('Robb-Stark', 'Hullen', {'weight': 3, 'book': 1}), ('Robb-Stark', 'Jon-Umber-(Greatjon)', {'weight': 8, 'book': 1}), ('Robb-Stark', 'Luwin', {'weight': 20, 'book': 1}), ('Robb-Stark', 'Nan', {'weight': 4, 'book': 1}), ('Robb-Stark', 'Osha', {'weight': 3, 'book': 1}), ('Robb-Stark', 'Renly-Baratheon', {'weight': 3, 'book': 1}), ('Robb-Stark', 'Rickard-Karstark', {'weight': 9, 'book': 1}), ('Robb-Stark', 'Rodrik-Cassel', {'weight': 15, 'book': 1}), ('Robb-Stark', 'Roose-Bolton', {'weight': 6, 'book': 1}), ('Robb-Stark', 'Sansa-Stark', {'weight': 13, 'book': 1}), ('Robb-Stark', 'Stiv', {'weight': 3, 'book': 1}), ('Robb-Stark', 'Theon-Greyjoy', {'weight': 37, 'book': 1}), ('Robb-Stark', 'Torrhen-Karstark', {'weight': 3, 'book': 1}), ('Robb-Stark', 'Walder-Frey', {'weight': 7, 'book': 1}), ('Robb-Stark', 'Wendel-Manderly', {'weight': 3, 'book': 1}), ('Robb-Stark', 'Yoren', {'weight': 3, 'book': 1}), ('Rodrik-Cassel', 'Bronn', {'weight': 4, 'book': 1}), ('Rodrik-Cassel', 'Hullen', {'weight': 3, 'book': 1}), ('Rodrik-Cassel', 'Loras-Tyrell', {'weight': 3, 'book': 1}), ('Rodrik-Cassel', 'Luwin', {'weight': 3, 'book': 1}), ('Rodrik-Cassel', 'Marillion', {'weight': 5, 'book': 1}), ('Rodrik-Cassel', 'Theon-Greyjoy', {'weight': 6, 'book': 1}), ('Rodrik-Cassel', 'Willis-Wode', {'weight': 7, 'book': 1}), ('Sandor-Clegane', 'Balon-Swann', {'weight': 3, 'book': 1}), ('Sandor-Clegane', 'Barristan-Selmy', {'weight': 3, 'book': 1}), ('Sandor-Clegane', 'Gregor-Clegane', {'weight': 11, 'book': 1}), ('Sandor-Clegane', 'Loras-Tyrell', {'weight': 4, 'book': 1}), ('Sandor-Clegane', 'Renly-Baratheon', {'weight': 7, 'book': 1}), ('Sandor-Clegane', 'Sansa-Stark', {'weight': 23, 'book': 1}), ('Sansa-Stark', 'Barristan-Selmy', {'weight': 3, 'book': 1}), ('Sansa-Stark', 'Beric-Dondarrion', {'weight': 4, 'book': 1}), ('Sansa-Stark', 'Boros-Blount', {'weight': 6, 'book': 1}), ('Sansa-Stark', 'Gregor-Clegane', {'weight': 5, 'book': 1}), ('Sansa-Stark', 'Janos-Slynt', {'weight': 3, 'book': 1}), ('Sansa-Stark', 'Loras-Tyrell', {'weight': 14, 'book': 1}), ('Sansa-Stark', 'Lyanna-Stark', {'weight': 4, 'book': 1}), ('Sansa-Stark', 'Maegor-I-Targaryen', {'weight': 4, 'book': 1}), ('Sansa-Stark', 'Pycelle', {'weight': 8, 'book': 1}), ('Sansa-Stark', 'Renly-Baratheon', {'weight': 5, 'book': 1}), ('Sansa-Stark', 'Rhaegar-Targaryen', {'weight': 3, 'book': 1}), ('Sansa-Stark', 'Stannis-Baratheon', {'weight': 3, 'book': 1}), ('Sansa-Stark', 'Varys', {'weight': 4, 'book': 1}), ('Tommen-Baratheon', 'Luwin', {'weight': 3, 'book': 1}), ('Balon-Swann', 'Renly-Baratheon', {'weight': 3, 'book': 1}), ('Renly-Baratheon', 'Barristan-Selmy', {'weight': 13, 'book': 1}), ('Renly-Baratheon', 'Cayn', {'weight': 3, 'book': 1}), ('Renly-Baratheon', 'Loras-Tyrell', {'weight': 5, 'book': 1}), ('Renly-Baratheon', 'Pycelle', {'weight': 7, 'book': 1}), ('Renly-Baratheon', 'Stannis-Baratheon', {'weight': 19, 'book': 1}), ('Renly-Baratheon', 'Varys', {'weight': 9, 'book': 1}), ('Barristan-Selmy', 'Boros-Blount', {'weight': 3, 'book': 1}), ('Barristan-Selmy', 'Pycelle', {'weight': 8, 'book': 1}), ('Barristan-Selmy', 'Varys', {'weight': 9, 'book': 1}), ('Pycelle', 'Gregor-Clegane', {'weight': 3, 'book': 1}), ('Pycelle', 'Janos-Slynt', {'weight': 3, 'book': 1}), ('Pycelle', 'Stannis-Baratheon', {'weight': 3, 'book': 1}), ('Pycelle', 'Varys', {'weight': 17, 'book': 1}), ('Varys', 'Stannis-Baratheon', {'weight': 5, 'book': 1}), ('Jaremy-Rykker', 'Jafer-Flowers', {'weight': 3, 'book': 1}), ('Luwin', 'Hallis-Mollen', {'weight': 4, 'book': 1}), ('Luwin', 'Hodor', {'weight': 10, 'book': 1}), ('Luwin', 'Hullen', {'weight': 3, 'book': 1}), ('Luwin', 'Joseth', {'weight': 3, 'book': 1}), ('Luwin', 'Nan', {'weight': 4, 'book': 1}), ('Luwin', 'Osha', {'weight': 16, 'book': 1}), ('Luwin', 'Rickard-Karstark', {'weight': 3, 'book': 1}), ('Luwin', 'Theon-Greyjoy', {'weight': 10, 'book': 1}), ('Theon-Greyjoy', 'Brynden-Tully', {'weight': 6, 'book': 1}), ('Theon-Greyjoy', 'Hallis-Mollen', {'weight': 7, 'book': 1}), ('Theon-Greyjoy', 'Jon-Umber-(Greatjon)', {'weight': 5, 'book': 1}), ('Theon-Greyjoy', 'Walder-Frey', {'weight': 4, 'book': 1}), ('Waymar-Royce', 'Gared', {'weight': 13, 'book': 1}), ('Waymar-Royce', 'Will-(prologue)', {'weight': 18, 'book': 1}), ('Beric-Dondarrion', 'Gregor-Clegane', {'weight': 6, 'book': 1}), ('Beric-Dondarrion', 'Loras-Tyrell', {'weight': 5, 'book': 1}), ('Beric-Dondarrion', 'Thoros-of-Myr', {'weight': 5, 'book': 1}), ('Gregor-Clegane', 'Loras-Tyrell', {'weight': 10, 'book': 1}), ('Gregor-Clegane', 'Marq-Piper', {'weight': 6, 'book': 1}), ('Loras-Tyrell', 'Mace-Tyrell', {'weight': 3, 'book': 1}), ('Hodor', 'Nan', {'weight': 8, 'book': 1}), ('Rickard-Karstark', 'Galbart-Glover', {'weight': 4, 'book': 1}), ('Rickard-Karstark', 'Jon-Umber-(Greatjon)', {'weight': 7, 'book': 1}), ('Rickard-Karstark', 'Maege-Mormont', {'weight': 3, 'book': 1}), ('Rickard-Karstark', 'Roose-Bolton', {'weight': 3, 'book': 1}), ('Bronn', 'Chiggen', {'weight': 8, 'book': 1}), ('Bronn', 'Marillion', {'weight': 4, 'book': 1}), ('Bronn', 'Shae', {'weight': 3, 'book': 1}), ('Bronn', 'Shagga', {'weight': 3, 'book': 1}), ('Bronn', 'Vardis-Egen', {'weight': 11, 'book': 1}), ('Bronn', 'Willis-Wode', {'weight': 5, 'book': 1}), ('Chiggen', 'Willis-Wode', {'weight': 3, 'book': 1}), ('Marillion', 'Willis-Wode', {'weight': 4, 'book': 1}), ('Shagga', 'Conn', {'weight': 9, 'book': 1}), ('Shagga', 'Dolf', {'weight': 7, 'book': 1}), ('Shagga', 'Timett', {'weight': 4, 'book': 1}), ('Shagga', 'Ulf-son-of-Umar', {'weight': 4, 'book': 1}), ('Vardis-Egen', 'Colemon', {'weight': 4, 'book': 1}), ('Vardis-Egen', 'Eon-Hunter', {'weight': 3, 'book': 1}), ('Vardis-Egen', 'Lysa-Arryn', {'weight': 5, 'book': 1}), ('Brynden-Tully', 'Edmure-Tully', {'weight': 3, 'book': 1}), ('Brynden-Tully', 'Hoster-Tully', {'weight': 5, 'book': 1}), ('Brynden-Tully', 'Lysa-Arryn', {'weight': 10, 'book': 1}), ('Brynden-Tully', 'Nestor-Royce', {'weight': 3, 'book': 1}), ('Brynden-Tully', 'Walder-Frey', {'weight': 3, 'book': 1}), ('Edmure-Tully', 'Hoster-Tully', {'weight': 7, 'book': 1}), ('Edmure-Tully', 'Karyl-Vance', {'weight': 4, 'book': 1}), ('Edmure-Tully', 'Lysa-Arryn', {'weight': 5, 'book': 1}), ('Edmure-Tully', 'Marq-Piper', {'weight': 3, 'book': 1}), ('Edmure-Tully', 'Tytos-Blackwood', {'weight': 3, 'book': 1}), ('Hoster-Tully', 'Lysa-Arryn', {'weight': 3, 'book': 1}), ('Lysa-Arryn', 'Eon-Hunter', {'weight': 3, 'book': 1}), ('Lysa-Arryn', 'Lyn-Corbray', {'weight': 3, 'book': 1}), ('Lysa-Arryn', 'Robert-Arryn', {'weight': 8, 'book': 1}), ('Lysa-Arryn', 'Stannis-Baratheon', {'weight': 4, 'book': 1}), ('Walder-Frey', 'Danwell-Frey', {'weight': 3, 'book': 1}), ('Walder-Frey', 'Stevron-Frey', {'weight': 3, 'book': 1}), ('Jon-Umber-(Greatjon)', 'Galbart-Glover', {'weight': 4, 'book': 1}), ('Jon-Umber-(Greatjon)', 'Maege-Mormont', {'weight': 5, 'book': 1}), ('Jon-Umber-(Greatjon)', 'Roose-Bolton', {'weight': 3, 'book': 1}), ('Tytos-Blackwood', 'Jonos-Bracken', {'weight': 3, 'book': 1}), ('Clement-Piper', 'Karyl-Vance', {'weight': 4, 'book': 1}), ('Karyl-Vance', 'Marq-Piper', {'weight': 3, 'book': 1}), ('Cohollo', 'Haggo', {'weight': 7, 'book': 1}), ('Cohollo', 'Qotho', {'weight': 6, 'book': 1}), ('Haggo', 'Mirri-Maz-Duur', {'weight': 3, 'book': 1}), ('Haggo', 'Qotho', {'weight': 11, 'book': 1}), ('Qotho', 'Mirri-Maz-Duur', {'weight': 9, 'book': 1}), ('Conn', 'Coratt', {'weight': 5, 'book': 1}), ('Doreah', 'Irri', {'weight': 14, 'book': 1}), ('Doreah', 'Jhiqui', {'weight': 11, 'book': 1}), ('Doreah', 'Viserys-Targaryen', {'weight': 3, 'book': 1}), ('Illyrio-Mopatis', 'Irri', {'weight': 3, 'book': 1}), ('Illyrio-Mopatis', 'Viserys-Targaryen', {'weight': 14, 'book': 1}), ('Irri', 'Jhiqui', {'weight': 14, 'book': 1}), ('Irri', 'Viserys-Targaryen', {'weight': 5, 'book': 1}), ('Rhaegar-Targaryen', 'Viserys-Targaryen', {'weight': 5, 'book': 1}), ('Danwell-Frey', 'Hosteen-Frey', {'weight': 3, 'book': 1}), ('Danwell-Frey', 'Jared-Frey', {'weight': 3, 'book': 1}), ('Hosteen-Frey', 'Jared-Frey', {'weight': 3, 'book': 1}), ('Daryn-Hornwood', 'Torrhen-Karstark', {'weight': 3, 'book': 1}), ('Jommo', 'Ogo', {'weight': 3, 'book': 1}), ('Ogo', 'Fogo', {'weight': 4, 'book': 1}), ('Galbart-Glover', 'Roose-Bolton', {'weight': 3, 'book': 1}), ('Wyl-(guard)', 'Heward', {'weight': 3, 'book': 1}), ('Gared', 'Will-(prologue)', {'weight': 12, 'book': 1}), ('Jyck', 'Morrec', {'weight': 5, 'book': 1}), ('Mace-Tyrell', 'Paxter-Redwyne', {'weight': 3, 'book': 1})])"
      ]
     },
     "execution_count": 130,
     "metadata": {},
     "output_type": "execute_result"
    }
   ],
   "source": [
    "G_book1.edges(data=True)"
   ]
  },
  {
   "cell_type": "markdown",
   "metadata": {},
   "source": [
    "### Finding the most important node i.e character in these networks.\n",
    "\n",
    "We'll compare different centralities to find the importance of nodes in this network. There is no one right way of calaculating it, every approach has a different meaning. Let's start with degree centrality which is defined by degree of a node divided by a noramlising factor n-1 where n is the number of nodes."
   ]
  },
  {
   "cell_type": "code",
   "execution_count": 141,
   "metadata": {},
   "outputs": [
    {
     "data": {
      "text/plain": [
       "['Addam-Marbrand', 'Aerys-II-Targaryen', 'Barristan-Selmy', 'Brynden-Tully', 'Catelyn-Stark', 'Cersei-Lannister', 'Eddard-Stark', 'Edmure-Tully', 'Galbart-Glover', 'Gregor-Clegane', 'Harys-Swyft', 'Joffrey-Baratheon', 'Jon-Arryn', 'Jory-Cassel', 'Kevan-Lannister', 'Loras-Tyrell', 'Lysa-Arryn', 'Petyr-Baelish', 'Renly-Baratheon', 'Rickard-Karstark', 'Robb-Stark', 'Robert-Baratheon', 'Rodrik-Cassel', 'Sandor-Clegane', 'Sansa-Stark', 'Tyrion-Lannister', 'Tywin-Lannister', 'Varys', 'Wyl-(guard)']"
      ]
     },
     "execution_count": 141,
     "metadata": {},
     "output_type": "execute_result"
    }
   ],
   "source": [
    "list(G_book1.neighbors('Jaime-Lannister'))"
   ]
  },
  {
   "cell_type": "markdown",
   "metadata": {},
   "source": [
    "##### nx.degree_centrality(graph) returns a dictionary where keys are the nodes and values are the corresponsing degree centrality. Let's find the five most important character according to degree centrality."
   ]
  },
  {
   "cell_type": "code",
   "execution_count": 131,
   "metadata": {},
   "outputs": [
    {
     "data": {
      "text/plain": [
       "[('Eddard-Stark', 0.3548387096774194), ('Robert-Baratheon', 0.2688172043010753), ('Tyrion-Lannister', 0.24731182795698928), ('Catelyn-Stark', 0.23118279569892475), ('Jon-Snow', 0.19892473118279572)]"
      ]
     },
     "execution_count": 131,
     "metadata": {},
     "output_type": "execute_result"
    }
   ],
   "source": [
    "sorted(nx.degree_centrality(G_book1).items(), key=lambda x:x[1], reverse=True)[0:5]"
   ]
  },
  {
   "cell_type": "code",
   "execution_count": 142,
   "metadata": {},
   "outputs": [
    {
     "data": {
      "image/png": "[encoded data removed]",
      "text/plain": [
       "<matplotlib.figure.Figure object at 0x10eb28d68>"
      ]
     },
     "metadata": {},
     "output_type": "display_data"
    }
   ],
   "source": [
    "# Plot a histogram of degree centrality\n",
    "plt.hist(list(nx.degree_centrality(G_book4).values()))\n",
    "plt.show()"
   ]
  },
  {
   "cell_type": "markdown",
   "metadata": {},
   "source": [
    "### Exercise\n",
    "\n",
    "Create a new centrality measure, weighted_degree_centrality(Graph, weight) which takes in Graph and the weight attribute and returns a weighted degree centrality dictionary. Weighted degree is calculated by summing the weight of the all edges of a node and normalise(divide) the weighted degree by the total weight of the graph(sum of weighted degrees of all nodes) and find the top five characters according to this measure."
   ]
  },
  {
   "cell_type": "code",
   "execution_count": 159,
   "metadata": {
    "collapsed": true
   },
   "outputs": [],
   "source": [
    "def weighted_degree_centrality(G, weight):\n",
    "    result = dict()\n",
    "    total = 0\n",
    "    for node in G.nodes():\n",
    "        weight_degree = 0\n",
    "        for n in G.edges([node], data=True):\n",
    "            weight_degree += n[2]['weight']\n",
    "        result[node] = weight_degree\n",
    "        total += weight_degree\n",
    "    for node, value in result.items():\n",
    "        result[node] = value/total\n",
    "    return result"
   ]
  },
  {
   "cell_type": "code",
   "execution_count": 162,
   "metadata": {},
   "outputs": [
    {
     "data": {
      "image/png": "[encoded data removed]",
      "text/plain": [
       "<matplotlib.figure.Figure object at 0x10e24dd30>"
      ]
     },
     "metadata": {},
     "output_type": "display_data"
    }
   ],
   "source": [
    "plt.hist(list(weighted_degree_centrality(G_book1, 'weight').values()))\n",
    "plt.show()"
   ]
  },
  {
   "cell_type": "code",
   "execution_count": 163,
   "metadata": {},
   "outputs": [
    {
     "data": {
      "text/plain": [
       "[('Eddard-Stark', 0.08715720879717621), ('Robert-Baratheon', 0.06387455878360032), ('Jon-Snow', 0.05321748574531632), ('Tyrion-Lannister', 0.044121639967417865), ('Sansa-Stark', 0.03699429812652729)]"
      ]
     },
     "execution_count": 163,
     "metadata": {},
     "output_type": "execute_result"
    }
   ],
   "source": [
    "sorted(weighted_degree_centrality(G_book1, 'weight').items(), key=lambda x:x[1], reverse=True)[0:5]"
   ]
  },
  {
   "cell_type": "code",
   "execution_count": 158,
   "metadata": {},
   "outputs": [
    {
     "data": {
      "text/plain": [
       "1.0000000000000002"
      ]
     },
     "execution_count": 158,
     "metadata": {},
     "output_type": "execute_result"
    }
   ],
   "source": [
    "sum(list(weighted_degree_centrality(G_book1, 'weight').values()))"
   ]
  },
  {
   "cell_type": "markdown",
   "metadata": {},
   "source": [
    "##### Betweeness centrality \n",
    "From Wikipedia:\n",
    "For every pair of vertices in a connected graph, there exists at least one shortest path between the vertices such that either the number of edges that the path passes through (for unweighted graphs) or the sum of the weights of the edges (for weighted graphs) is minimized. The betweenness centrality for each vertex is the number of these shortest paths that pass through the vertex.\n"
   ]
  },
  {
   "cell_type": "code",
   "execution_count": 166,
   "metadata": {},
   "outputs": [
    {
     "data": {
      "text/plain": [
       "[('Eddard-Stark', 0.2696038913836117), ('Robert-Baratheon', 0.21403028397371796), ('Tyrion-Lannister', 0.1902124972697492), ('Jon-Snow', 0.17158135899829566), ('Catelyn-Stark', 0.1513952715347627), ('Daenerys-Targaryen', 0.08627015537511595), ('Robb-Stark', 0.07298399629664767), ('Drogo', 0.06481224290874964), ('Bran-Stark', 0.05579958811784442), ('Sansa-Stark', 0.03714483664326785)]"
      ]
     },
     "execution_count": 166,
     "metadata": {},
     "output_type": "execute_result"
    }
   ],
   "source": [
    "#unweighted\n",
    "sorted(nx.betweenness_centrality(G_book1).items(), key=lambda x:x[1], reverse=True)[0:10]"
   ]
  },
  {
   "cell_type": "code",
   "execution_count": 167,
   "metadata": {},
   "outputs": [
    {
     "data": {
      "text/plain": [
       "[('Robert-Baratheon', 0.23341885664466297), ('Eddard-Stark', 0.18703429235687297), ('Tyrion-Lannister', 0.15311225972516293), ('Robb-Stark', 0.1024018949825402), ('Catelyn-Stark', 0.10169012330302643), ('Jon-Snow', 0.09027684366394043), ('Jaime-Lannister', 0.07745109164464009), ('Rodrik-Cassel', 0.07667992877670296), ('Drogo', 0.06894355184677767), ('Jorah-Mormont', 0.0627085149665795)]"
      ]
     },
     "execution_count": 167,
     "metadata": {},
     "output_type": "execute_result"
    }
   ],
   "source": [
    "sorted(nx.betweenness_centrality(G_book1, weight='weight').items(), key=lambda x:x[1], reverse=True)[0:10]"
   ]
  },
  {
   "cell_type": "code",
   "execution_count": null,
   "metadata": {},
   "outputs": [],
   "source": []
  },
  {
   "cell_type": "code",
   "execution_count": null,
   "metadata": {},
   "outputs": [],
   "source": []
  },
  {
   "cell_type": "code",
   "execution_count": null,
   "metadata": {
    "collapsed": true
   },
   "outputs": [],
   "source": []
  },
  {
   "cell_type": "code",
   "execution_count": null,
   "metadata": {
    "collapsed": true
   },
   "outputs": [],
   "source": []
  }
 ],
 "metadata": {
  "kernelspec": {
   "display_name": "Python 3",
   "language": "python",
   "name": "python3"
  },
  "language_info": {
   "codemirror_mode": {
    "name": "ipython",
    "version": 3
   },
   "file_extension": ".py",
   "mimetype": "text/x-python",
   "name": "python",
   "nbconvert_exporter": "python",
   "pygments_lexer": "ipython3",
   "version": "3.6.1"
  }
 },
 "nbformat": 4,
 "nbformat_minor": 2
}
